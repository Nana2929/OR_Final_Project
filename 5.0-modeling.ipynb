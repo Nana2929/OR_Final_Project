{
 "cells": [
  {
   "cell_type": "code",
   "execution_count": 2,
   "metadata": {
    "colab": {
     "base_uri": "https://localhost:8080/"
    },
    "id": "yylFLrVlScDi",
    "outputId": "7fe2373d-7a8f-4eb9-869b-70d959b70fae"
   },
   "outputs": [],
   "source": [
    "# !pip install gurobipy\n",
    "\n",
    "# from google.colab import drive\n",
    "# drive.mount('/content/drive')\n",
    "\n",
    "from gurobipy import *\n",
    "from itertools import combinations"
   ]
  },
  {
   "cell_type": "code",
   "execution_count": null,
   "metadata": {
    "colab": {
     "base_uri": "https://localhost:8080/"
    },
    "id": "XPy37tLLlgj0",
    "outputId": "961e1918-837b-4c51-a4f2-4deb8618f214"
   },
   "outputs": [],
   "source": [
    "# !git clone https://github.com/Nana2929/OR_Final_Project\n",
    "!rm -r /content/OR_Final_Project\n",
    "!git clone https://github.com/Nana2929/OR_Final_Project"
   ]
  },
  {
   "cell_type": "markdown",
   "metadata": {
    "id": "wloyhSSCssXg"
   },
   "source": [
    "## real testcases"
   ]
  },
  {
   "cell_type": "code",
   "execution_count": 3,
   "metadata": {
    "id": "Cunv8wB_lxg0"
   },
   "outputs": [],
   "source": [
    "import joblib\n",
    "# prefix = '/content/OR_Final_Project/data/testcases'\n",
    "prefix = './data/testcases'"
   ]
  },
  {
   "cell_type": "code",
   "execution_count": 10,
   "metadata": {
    "colab": {
     "base_uri": "https://localhost:8080/"
    },
    "id": "iCK62dhoqNNC",
    "outputId": "9a0a4ec2-8d76-4527-947f-b96afc809440"
   },
   "outputs": [
    {
     "name": "stdout",
     "output_type": "stream",
     "text": [
      "toy example n_node: 81\n",
      "distance matrix shape: (82, 82)\n",
      "b list length: 82\n"
     ]
    }
   ],
   "source": [
    "# small_n = n_node =10\n",
    "# # slicing \n",
    "# d = d[:n_node+1, :n_node+1]\n",
    "# b = b[:n_node+1]\n",
    "# b[0] = -sum(b[1:])\n",
    "# print('toy example n_node:', n_node)\n",
    "# print('distance matrix shape:', d.shape)\n",
    "# print('b list length:', len(b))"
   ]
  },
  {
   "cell_type": "code",
   "execution_count": 4,
   "metadata": {},
   "outputs": [],
   "source": [
    "import os\n",
    "cases = {}\n",
    "for casepath in os.listdir(prefix):\n",
    "    if not casepath.startswith('.'):\n",
    "        case = joblib.load(f'{prefix}/{casepath}')\n",
    "        cases[casepath] = case"
   ]
  },
  {
   "cell_type": "code",
   "execution_count": 4,
   "metadata": {},
   "outputs": [
    {
     "data": {
      "text/plain": [
       "40"
      ]
     },
     "execution_count": 4,
     "metadata": {},
     "output_type": "execute_result"
    }
   ],
   "source": [
    "len(cases) # k: 5, capacity: 15, 20, 25, 30 "
   ]
  },
  {
   "cell_type": "code",
   "execution_count": null,
   "metadata": {},
   "outputs": [
    {
     "name": "stdout",
     "output_type": "stream",
     "text": [
      "Gurobi Optimizer version 9.5.1 build v9.5.1rc2 (mac64[x86])\n",
      "Thread count: 4 physical cores, 8 logical processors, using up to 8 threads\n",
      "Optimize a model with 5245227 rows, 4411 columns and 550515530 nonzeros\n",
      "Model fingerprint: 0xbffe9e25\n",
      "Variable types: 2206 continuous, 2205 integer (2205 binary)\n",
      "Coefficient statistics:\n",
      "  Matrix range     [1e+00, 2e+03]\n",
      "  Objective range  [1e+00, 1e+00]\n",
      "  Bounds range     [1e+00, 3e+01]\n",
      "  RHS range        [1e+00, 1e+02]\n"
     ]
    }
   ],
   "source": [
    "res= {}\n",
    "for name, testcase in cases.items():\n",
    "    if name == 'testcase_even_k5_Q30':\n",
    "        n_node = testcase['n_node']\n",
    "        d = testcase['d']\n",
    "        b = testcase['b']\n",
    "        Q = testcase['Q']\n",
    "        n_vehicle = testcase['n_vehicle']\n",
    "        ###### reduce problem size #######\n",
    "        small_n = 20\n",
    "        # depot node is the extra 1\n",
    "        d = d[:small_n+1, :small_n+1]\n",
    "        b = b[:small_n+1]\n",
    "        b[0] = - sum(b[1:]) # -98.0\n",
    "        n_node = small_n\n",
    "        ##############\n",
    "        X, R = VRP(n_vehicle= n_vehicle, n_node = n_node,d = d, Q= Q, b= b)\n",
    "        print(f'{name} succeeds.')\n",
    "        res[name] = (X, R)\n",
    "    "
   ]
  },
  {
   "cell_type": "code",
   "execution_count": 15,
   "metadata": {
    "colab": {
     "base_uri": "https://localhost:8080/",
     "height": 404
    },
    "id": "6MBGi1Ezqmkh",
    "outputId": "e4b7ecd1-bbc0-4d79-e255-dd0f8f12fce2"
   },
   "outputs": [
    {
     "name": "stdout",
     "output_type": "stream",
     "text": [
      "Gurobi Optimizer version 9.5.1 build v9.5.1rc2 (mac64[x86])\n",
      "Thread count: 4 physical cores, 8 logical processors, using up to 8 threads\n",
      "Optimize a model with 1049063 rows, 883 columns and 110103106 nonzeros\n",
      "Model fingerprint: 0x62b5b5de\n",
      "Variable types: 442 continuous, 441 integer (441 binary)\n",
      "Coefficient statistics:\n",
      "  Matrix range     [1e+00, 2e+03]\n",
      "  Objective range  [1e+00, 1e+00]\n",
      "  Bounds range     [1e+00, 2e+01]\n",
      "  RHS range        [1e+00, 1e+02]\n",
      "Presolve removed 0 rows and 0 columns (presolve time = 18s) ...\n",
      "Presolve removed 0 rows and 0 columns (presolve time = 29s) ...\n",
      "Presolve removed 0 rows and 0 columns (presolve time = 30s) ...\n",
      "Presolve removed 43 rows and 42 columns (presolve time = 36s) ...\n",
      "Presolve removed 64 rows and 42 columns (presolve time = 52s) ...\n",
      "Presolve removed 64 rows and 42 columns (presolve time = 65s) ...\n",
      "Presolve removed 64 rows and 63 columns (presolve time = 65s) ...\n",
      "Presolve removed 64 rows and 63 columns (presolve time = 88s) ...\n",
      "Presolve removed 64 rows and 63 columns (presolve time = 99s) ...\n",
      "Presolve removed 64 rows and 63 columns (presolve time = 101s) ...\n",
      "Presolve removed 64 rows and 63 columns (presolve time = 126s) ...\n",
      "Presolve removed 64 rows and 63 columns (presolve time = 139s) ...\n",
      "Presolve removed 64 rows and 63 columns (presolve time = 140s) ...\n",
      "Presolve removed 65 rows and 63 columns (presolve time = 152s) ...\n",
      "Presolve removed 65 rows and 63 columns (presolve time = 171s) ...\n",
      "Presolve removed 65 rows and 63 columns (presolve time = 175s) ...\n",
      "Presolve removed 65 rows and 63 columns (presolve time = 180s) ...\n",
      "Presolve removed 65 rows and 63 columns (presolve time = 185s) ...\n",
      "Presolve removed 65 rows and 63 columns (presolve time = 192s) ...\n",
      "Presolve removed 65 rows and 63 columns (presolve time = 196s) ...\n",
      "Presolve removed 65 rows and 63 columns (presolve time = 201s) ...\n",
      "Presolve removed 65 rows and 63 columns (presolve time = 212s) ...\n",
      "Presolve removed 65 rows and 63 columns (presolve time = 223s) ...\n",
      "Presolve removed 65 rows and 63 columns (presolve time = 231s) ...\n",
      "Presolve removed 65 rows and 63 columns (presolve time = 237s) ...\n",
      "Presolve removed 65 rows and 63 columns (presolve time = 253s) ...\n",
      "Presolve removed 65 rows and 63 columns (presolve time = 303s) ...\n",
      "Presolve removed 65 rows and 63 columns (presolve time = 305s) ...\n",
      "Presolve removed 65 rows and 63 columns (presolve time = 311s) ...\n",
      "Presolve removed 65 rows and 63 columns (presolve time = 315s) ...\n",
      "Presolve removed 65 rows and 63 columns (presolve time = 320s) ...\n",
      "Presolve removed 65 rows and 63 columns (presolve time = 326s) ...\n",
      "Presolve removed 65 rows and 63 columns (presolve time = 330s) ...\n",
      "Presolve removed 65 rows and 63 columns (presolve time = 335s) ...\n",
      "Presolve removed 65 rows and 63 columns (presolve time = 340s) ...\n",
      "Presolve removed 65 rows and 63 columns (presolve time = 345s) ...\n",
      "Presolve removed 65 rows and 63 columns (presolve time = 350s) ...\n",
      "Presolve removed 65 rows and 63 columns (presolve time = 355s) ...\n",
      "Presolve removed 65 rows and 63 columns (presolve time = 360s) ...\n",
      "Presolve removed 65 rows and 63 columns (presolve time = 365s) ...\n",
      "Presolve removed 65 rows and 63 columns (presolve time = 371s) ...\n",
      "Presolve removed 65 rows and 63 columns (presolve time = 376s) ...\n",
      "Presolve removed 65 rows and 63 columns (presolve time = 380s) ...\n",
      "Presolve removed 65 rows and 63 columns (presolve time = 385s) ...\n",
      "Presolve removed 65 rows and 63 columns (presolve time = 390s) ...\n",
      "Presolve removed 65 rows and 63 columns (presolve time = 396s) ...\n",
      "Presolve removed 65 rows and 63 columns (presolve time = 401s) ...\n",
      "Presolve removed 65 rows and 63 columns (presolve time = 407s) ...\n",
      "Presolve removed 65 rows and 63 columns (presolve time = 411s) ...\n",
      "Presolve removed 65 rows and 63 columns (presolve time = 416s) ...\n",
      "Presolve removed 65 rows and 63 columns (presolve time = 420s) ...\n",
      "Presolve removed 65 rows and 63 columns (presolve time = 425s) ...\n",
      "Presolve removed 65 rows and 63 columns (presolve time = 432s) ...\n",
      "Presolve removed 65 rows and 63 columns (presolve time = 441s) ...\n",
      "Presolve removed 65 rows and 63 columns (presolve time = 447s) ...\n",
      "Presolve removed 65 rows and 63 columns (presolve time = 451s) ...\n",
      "Presolve removed 65 rows and 63 columns (presolve time = 455s) ...\n",
      "Presolve removed 65 rows and 63 columns (presolve time = 460s) ...\n",
      "Presolve removed 65 rows and 63 columns (presolve time = 465s) ...\n",
      "Presolve removed 65 rows and 63 columns (presolve time = 470s) ...\n",
      "Presolve removed 65 rows and 63 columns (presolve time = 476s) ...\n",
      "Presolve removed 65 rows and 63 columns (presolve time = 481s) ...\n",
      "Presolve removed 65 rows and 63 columns (presolve time = 485s) ...\n",
      "Presolve removed 65 rows and 63 columns (presolve time = 490s) ...\n",
      "Presolve removed 65 rows and 63 columns (presolve time = 498s) ...\n",
      "Presolve removed 65 rows and 63 columns (presolve time = 507s) ...\n",
      "Presolve removed 65 rows and 63 columns (presolve time = 511s) ...\n",
      "Presolve removed 65 rows and 63 columns (presolve time = 516s) ...\n",
      "Presolve removed 65 rows and 63 columns (presolve time = 520s) ...\n",
      "Presolve removed 65 rows and 63 columns (presolve time = 525s) ...\n",
      "Presolve removed 65 rows and 83 columns\n",
      "Presolve time: 525.29s\n",
      "\n",
      "Explored 0 nodes (0 simplex iterations) in 537.67 seconds (127.27 work units)\n",
      "Thread count was 1 (of 8 available processors)\n",
      "\n",
      "Solution count 0\n",
      "\n",
      "Model is infeasible\n",
      "Best objective -, best bound -, gap -\n"
     ]
    },
    {
     "ename": "AttributeError",
     "evalue": "Unable to retrieve attribute 'X'",
     "output_type": "error",
     "traceback": [
      "\u001b[0;31m---------------------------------------------------------------------------\u001b[0m",
      "\u001b[0;31mAttributeError\u001b[0m                            Traceback (most recent call last)",
      "Input \u001b[0;32mIn [15]\u001b[0m, in \u001b[0;36m<cell line: 2>\u001b[0;34m()\u001b[0m\n\u001b[1;32m     13\u001b[0m b[\u001b[38;5;241m0\u001b[39m] \u001b[38;5;241m=\u001b[39m \u001b[38;5;241m-\u001b[39m \u001b[38;5;28msum\u001b[39m(b[\u001b[38;5;241m1\u001b[39m:])\n\u001b[1;32m     14\u001b[0m n_node \u001b[38;5;241m=\u001b[39m small_n\n\u001b[0;32m---> 16\u001b[0m X, R \u001b[38;5;241m=\u001b[39m \u001b[43mVRP\u001b[49m\u001b[43m(\u001b[49m\u001b[43mn_vehicle\u001b[49m\u001b[38;5;241;43m=\u001b[39;49m\u001b[43m \u001b[49m\u001b[43mn_vehicle\u001b[49m\u001b[43m,\u001b[49m\u001b[43m \u001b[49m\u001b[43mn_node\u001b[49m\u001b[43m \u001b[49m\u001b[38;5;241;43m=\u001b[39;49m\u001b[43m \u001b[49m\u001b[43mn_node\u001b[49m\u001b[43m,\u001b[49m\u001b[43md\u001b[49m\u001b[43m \u001b[49m\u001b[38;5;241;43m=\u001b[39;49m\u001b[43m \u001b[49m\u001b[43md\u001b[49m\u001b[43m,\u001b[49m\u001b[43m \u001b[49m\u001b[43mQ\u001b[49m\u001b[38;5;241;43m=\u001b[39;49m\u001b[43m \u001b[49m\u001b[43mQ\u001b[49m\u001b[43m,\u001b[49m\u001b[43m \u001b[49m\u001b[43mb\u001b[49m\u001b[38;5;241;43m=\u001b[39;49m\u001b[43m \u001b[49m\u001b[43mb\u001b[49m\u001b[43m)\u001b[49m\n\u001b[1;32m     17\u001b[0m \u001b[38;5;28mprint\u001b[39m(\u001b[38;5;124mf\u001b[39m\u001b[38;5;124m'\u001b[39m\u001b[38;5;132;01m{\u001b[39;00mname\u001b[38;5;132;01m}\u001b[39;00m\u001b[38;5;124m succeeds.\u001b[39m\u001b[38;5;124m'\u001b[39m)\n\u001b[1;32m     18\u001b[0m res[name] \u001b[38;5;241m=\u001b[39m (X, R)\n",
      "Input \u001b[0;32mIn [7]\u001b[0m, in \u001b[0;36mVRP\u001b[0;34m(n_node, n_vehicle, d, Q, b, verbose)\u001b[0m\n\u001b[1;32m     74\u001b[0m         r_ans[k]\u001b[38;5;241m.\u001b[39mappend([])\n\u001b[1;32m     75\u001b[0m         \u001b[38;5;28;01mfor\u001b[39;00m j \u001b[38;5;129;01min\u001b[39;00m \u001b[38;5;28mrange\u001b[39m(n_node \u001b[38;5;241m+\u001b[39m \u001b[38;5;241m1\u001b[39m):\n\u001b[0;32m---> 76\u001b[0m             x_ans[k][i]\u001b[38;5;241m.\u001b[39mappend(\u001b[43mx\u001b[49m\u001b[43m[\u001b[49m\u001b[43mk\u001b[49m\u001b[43m]\u001b[49m\u001b[43m[\u001b[49m\u001b[43mi\u001b[49m\u001b[43m]\u001b[49m\u001b[43m[\u001b[49m\u001b[43mj\u001b[49m\u001b[43m]\u001b[49m\u001b[38;5;241;43m.\u001b[39;49m\u001b[43mX\u001b[49m)\n\u001b[1;32m     77\u001b[0m             r_ans[k][i]\u001b[38;5;241m.\u001b[39mappend(r[k][i][j]\u001b[38;5;241m.\u001b[39mX)\n\u001b[1;32m     78\u001b[0m \u001b[38;5;28;01mreturn\u001b[39;00m x_ans, r_ans\n",
      "File \u001b[0;32msrc/gurobipy/var.pxi:125\u001b[0m, in \u001b[0;36mgurobipy.Var.__getattr__\u001b[0;34m()\u001b[0m\n",
      "File \u001b[0;32msrc/gurobipy/var.pxi:153\u001b[0m, in \u001b[0;36mgurobipy.Var.getAttr\u001b[0;34m()\u001b[0m\n",
      "File \u001b[0;32msrc/gurobipy/attrutil.pxi:100\u001b[0m, in \u001b[0;36mgurobipy.__getattr\u001b[0;34m()\u001b[0m\n",
      "\u001b[0;31mAttributeError\u001b[0m: Unable to retrieve attribute 'X'"
     ]
    }
   ],
   "source": [
    "res= {}\n",
    "for name, testcase in cases.items():\n",
    "    \n",
    "    n_node = testcase['n_node']\n",
    "    d = testcase['d']\n",
    "    b = testcase['b']\n",
    "    Q = testcase['Q']\n",
    "    n_vehicle = testcase['n_vehicle']\n",
    "    ###### reduce problem size #######\n",
    "    small_n = 20\n",
    "    # depot node is the extra 1\n",
    "    d = d[:small_n+1, :small_n+1]\n",
    "    b = b[:small_n+1]\n",
    "    b[0] = - sum(b[1:]) # -98.0\n",
    "    n_node = small_n\n",
    "    ##############\n",
    "    X, R = VRP(n_vehicle= n_vehicle, n_node = n_node,d = d, Q= Q, b= b)\n",
    "    print(f'{name} succeeds.')\n",
    "    res[name] = (X, R)\n"
   ]
  },
  {
   "cell_type": "code",
   "execution_count": 19,
   "metadata": {},
   "outputs": [
    {
     "data": {
      "text/plain": [
       "dict_keys(['testcase_even_k1_Q15', 'testcase_even_k2_Q25', 'testcase_even_k3_Q25', 'testcase_even_k2_Q15', 'testcase_even_k1_Q25', 'testcase_even_k3_Q15', 'testcase_even_k4_Q25', 'testcase_even_k5_Q25', 'testcase_even_k4_Q15', 'testcase_even_k5_Q15', 'testcase_morn_k1_Q20', 'testcase_even_k5_Q30', 'testcase_even_k4_Q30', 'testcase_morn_k2_Q20', 'testcase_morn_k3_Q20', 'testcase_even_k3_Q30', 'testcase_even_k2_Q30', 'testcase_morn_k4_Q20', 'testcase_even_k1_Q30', 'testcase_morn_k5_Q20', 'testcase_morn_k4_Q30', 'testcase_even_k1_Q20', 'testcase_morn_k5_Q30', 'testcase_even_k3_Q20', 'testcase_even_k2_Q20', 'testcase_morn_k2_Q30', 'testcase_morn_k3_Q30', 'testcase_morn_k1_Q30', 'testcase_even_k5_Q20', 'testcase_even_k4_Q20', 'testcase_morn_k3_Q25', 'testcase_morn_k1_Q15', 'testcase_morn_k2_Q25', 'testcase_morn_k3_Q15', 'testcase_morn_k2_Q15', 'testcase_morn_k1_Q25', 'testcase_morn_k5_Q25', 'testcase_morn_k4_Q25', 'testcase_morn_k5_Q15', 'testcase_morn_k4_Q15'])"
      ]
     },
     "execution_count": 19,
     "metadata": {},
     "output_type": "execute_result"
    }
   ],
   "source": [
    "cases.keys()"
   ]
  },
  {
   "cell_type": "code",
   "execution_count": 16,
   "metadata": {},
   "outputs": [
    {
     "data": {
      "text/plain": [
       "-98.0"
      ]
     },
     "execution_count": 16,
     "metadata": {},
     "output_type": "execute_result"
    }
   ],
   "source": [
    "b[0]"
   ]
  },
  {
   "cell_type": "code",
   "execution_count": 7,
   "metadata": {
    "id": "shXIEUXdUutK"
   },
   "outputs": [],
   "source": [
    "def VRP(n_node = n_node, n_vehicle = n_vehicle, d = d, Q = Q, b = b, verbose = True):\n",
    "    \"\"\"\n",
    "    參數定義：\n",
    "    n_node - 整數，租借站個數（不包含depot node）\n",
    "    n_vehicle - 整數，卡車數量\n",
    "    d　- 二維list，大小為n_node + 1 * n_node + 1，d[i][j]為node i到node j的距離，node 0到所有node距離為0\n",
    "    b - 一維list，大小為n_node + 1, b[j]為node j的淨供給，b[0] = -(所有node總和)\n",
    "    Q - 整數，一輛卡車能承載的腳踏車數\n",
    "    \"\"\"\n",
    "    vrp = Model(\"vrp\")\n",
    "\n",
    "    # add variables as a list\n",
    "    x = []\n",
    "    r = []\n",
    "    for k in range(n_vehicle):\n",
    "        x.append([])\n",
    "        r.append([])\n",
    "        for i in range(n_node + 1):\n",
    "            x[k].append([])\n",
    "            r[k].append([])\n",
    "            for j in range(n_node + 1):\n",
    "                x[k][i].append(vrp.addVar(lb=0, vtype = GRB.BINARY, name='_'.join([\"x\", str(i), str(j), str(k + 1)])))\n",
    "                r[k][i].append(vrp.addVar(lb=0, ub=Q, vtype = GRB.CONTINUOUS, name='_'.join([\"x\", str(i), str(j), str(k + 1)])))\n",
    "    \n",
    "    w = vrp.addVar(lb = 0, vtype = GRB.CONTINUOUS, name = \"w\")\n",
    "\n",
    "    # set obj and Constraint\n",
    "    vrp.setObjective(w, GRB.MINIMIZE)\n",
    "\n",
    "    for k in range(n_vehicle):\n",
    "        for i in range(n_node + 1):\n",
    "            for j in range(n_node + 1):\n",
    "                if i == j:\n",
    "                    vrp.addConstr(x[k][i][j] == 0, '{} != {} Constraint for vehicle{}'.format(i, j, k + 1))\n",
    "    \n",
    "    # 進=出\n",
    "    vrp.addConstrs((quicksum(x[k][i][j] for i in range(n_node + 1)) == quicksum(x[k][j][i] for i in range(n_node + 1)) for j in range(n_node + 1) for k in range(n_vehicle)), 'in=out')\n",
    "    \n",
    "    # 起點&終點為0\n",
    "    vrp.addConstrs((quicksum(x[k][0][j] for j in range(1, n_node + 1)) == 1 for k in range(n_vehicle)), 'start')\n",
    "    vrp.addConstrs((quicksum(x[k][j][0] for j in range(1, n_node + 1)) == 1 for k in range(n_vehicle)), 'end')\n",
    "\n",
    "    # 連結r和x，Q為r的upperbound\n",
    "    vrp.addConstrs((r[k][i][j] <= Q * x[k][i][j] for i in range(n_node + 1) for j in range(n_node + 1) for k in range(n_vehicle)), 'connect r and x')\n",
    "\n",
    "    # demand fulfillment\n",
    "    vrp.addConstrs((quicksum(r[k][i][j] for i in range(n_node + 1) for k in range(n_vehicle)) + b[j] == quicksum(r[k][j][i] for i in range(n_node + 1) for k in range(n_vehicle)) for j in range(n_node + 1)), 'demand fulfillment')\n",
    "\n",
    "    # 載0台出門\n",
    "    vrp.addConstrs((quicksum(r[k][0][j] for j in range(n_node + 1)) == 0 for k in range(n_vehicle)), 'empty at start')\n",
    "\n",
    "    # 吸收多餘supply\n",
    "    vrp.addConstr(quicksum(r[k][j][0] for j in range(n_node + 1) for k in range(n_vehicle)) == quicksum(b[j] for j in range(1, n_node + 1)), 'remaining supply')\n",
    "\n",
    "    # subtour\n",
    "    for size in range(2, n_node):  # size of subset\n",
    "        combs = list(combinations(range(1, n_node + 1), size))  #　subsets\n",
    "        for c in range(len(combs)):\n",
    "            vrp.addConstrs((quicksum(x[k][i][j] for i in combs[c] for j in combs[c]) <= len(combs[c]) - 1 for k in range(n_vehicle)), 'subtour')\n",
    "\n",
    "    # makespan\n",
    "    vrp.addConstrs((w >= quicksum(d[i][j] * x[k][i][j] for i in range(1, n_node + 1) for j in range(1, n_node + 1)) for k in range(n_vehicle)), 'makespan')\n",
    "    if not verbose: vrp.setParam('OutputFlag', 0)\n",
    "    vrp.optimize()\n",
    "\n",
    "    # retriving sol\n",
    "    x_ans = []\n",
    "    r_ans = []\n",
    "    for k in range(n_vehicle):\n",
    "        x_ans.append([])\n",
    "        r_ans.append([])\n",
    "        for i in range(n_node + 1):\n",
    "            x_ans[k].append([])\n",
    "            r_ans[k].append([])\n",
    "            for j in range(n_node + 1):\n",
    "                x_ans[k][i].append(x[k][i][j].X)\n",
    "                r_ans[k][i].append(r[k][i][j].X)\n",
    "    return x_ans, r_ans"
   ]
  },
  {
   "cell_type": "code",
   "execution_count": 4,
   "metadata": {
    "colab": {
     "base_uri": "https://localhost:8080/"
    },
    "id": "TdpbsDiSnxJJ",
    "outputId": "9641fe34-fca4-4881-c3f4-8c73699ebe05"
   },
   "outputs": [
    {
     "name": "stdout",
     "output_type": "stream",
     "text": [
      "Restricted license - for non-production use only - expires 2023-10-25\n",
      "Gurobi Optimizer version 9.5.1 build v9.5.1rc2 (linux64)\n",
      "Thread count: 1 physical cores, 2 logical processors, using up to 2 threads\n",
      "Optimize a model with 36 rows, 33 columns and 120 nonzeros\n",
      "Model fingerprint: 0x79dea985\n",
      "Variable types: 17 continuous, 16 integer (16 binary)\n",
      "Coefficient statistics:\n",
      "  Matrix range     [1e+00, 1e+02]\n",
      "  Objective range  [1e+00, 1e+00]\n",
      "  Bounds range     [1e+00, 1e+02]\n",
      "  RHS range        [1e+00, 1e+01]\n",
      "Found heuristic solution: objective 6.0000000\n",
      "Presolve removed 20 rows and 18 columns\n",
      "Presolve time: 0.01s\n",
      "Presolved: 16 rows, 15 columns, 50 nonzeros\n",
      "Variable types: 6 continuous, 9 integer (9 binary)\n",
      "\n",
      "Root relaxation: objective 4.000000e+00, 4 iterations, 0.00 seconds (0.00 work units)\n",
      "\n",
      "    Nodes    |    Current Node    |     Objective Bounds      |     Work\n",
      " Expl Unexpl |  Obj  Depth IntInf | Incumbent    BestBd   Gap | It/Node Time\n",
      "\n",
      "*    0     0               0       4.0000000    4.00000  0.00%     -    0s\n",
      "\n",
      "Explored 1 nodes (4 simplex iterations) in 0.05 seconds (0.00 work units)\n",
      "Thread count was 2 (of 2 available processors)\n",
      "\n",
      "Solution count 2: 4 6 \n",
      "\n",
      "Optimal solution found (tolerance 1.00e-04)\n",
      "Best objective 4.000000000000e+00, best bound 4.000000000000e+00, gap 0.0000%\n"
     ]
    }
   ],
   "source": [
    "# small test\n",
    "n_node = 3\n",
    "n_vehicle = 1\n",
    "d = [[0, 0, 0, 0], [0, 2, 2, 2], [0, 2, 2, 2], [0, 2, 2, 2]]\n",
    "Q = 100\n",
    "b = [-3, 10, -3, -4]\n",
    "\n",
    "x_test, r_test = VRP(n_node, n_vehicle, d, Q, b)"
   ]
  },
  {
   "cell_type": "code",
   "execution_count": null,
   "metadata": {
    "colab": {
     "base_uri": "https://localhost:8080/"
    },
    "id": "R3u9sdpBmDSV",
    "outputId": "75bdd755-8353-4bcb-847b-c74bc74da7ed"
   },
   "outputs": [
    {
     "name": "stdout",
     "output_type": "stream",
     "text": [
      "Restricted license - for non-production use only - expires 2023-10-25\n"
     ]
    }
   ],
   "source": []
  },
  {
   "cell_type": "code",
   "execution_count": null,
   "metadata": {
    "colab": {
     "base_uri": "https://localhost:8080/"
    },
    "id": "aTinTYERsofU",
    "outputId": "7dc6ea7e-d169-41f2-84e1-084ac2107656"
   },
   "outputs": [
    {
     "data": {
      "text/plain": [
       "[[[0.0, 1.0, -0.0, -0.0],\n",
       "  [0.0, 0.0, 1.0, -0.0],\n",
       "  [-0.0, -0.0, 0.0, 1.0],\n",
       "  [1.0, -0.0, 0.0, 0.0]]]"
      ]
     },
     "execution_count": 42,
     "metadata": {},
     "output_type": "execute_result"
    }
   ],
   "source": [
    "x_test"
   ]
  },
  {
   "cell_type": "code",
   "execution_count": null,
   "metadata": {
    "colab": {
     "base_uri": "https://localhost:8080/"
    },
    "id": "ZBhw5rx0xjub",
    "outputId": "4ac2dec8-3db8-4f2a-ea22-04aefbb695f9"
   },
   "outputs": [
    {
     "data": {
      "text/plain": [
       "[[[0.0, 0.0, 0.0, 0.0],\n",
       "  [0.0, 0.0, 10.0, 0.0],\n",
       "  [0.0, 0.0, 0.0, 7.0],\n",
       "  [3.0, 0.0, 0.0, 0.0]]]"
      ]
     },
     "execution_count": 43,
     "metadata": {},
     "output_type": "execute_result"
    }
   ],
   "source": [
    "r_test"
   ]
  }
 ],
 "metadata": {
  "colab": {
   "name": "modeling.ipynb",
   "provenance": []
  },
  "kernelspec": {
   "display_name": "Python 3 (ipykernel)",
   "language": "python",
   "name": "python3"
  },
  "language_info": {
   "codemirror_mode": {
    "name": "ipython",
    "version": 3
   },
   "file_extension": ".py",
   "mimetype": "text/x-python",
   "name": "python",
   "nbconvert_exporter": "python",
   "pygments_lexer": "ipython3",
   "version": "3.8.12"
  }
 },
 "nbformat": 4,
 "nbformat_minor": 4
}
