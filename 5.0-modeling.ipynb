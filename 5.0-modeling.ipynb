{
 "cells": [
  {
   "cell_type": "markdown",
   "metadata": {},
   "source": [
    "# Youbike 2.0 Formulation Modeling"
   ]
  },
  {
   "cell_type": "code",
   "execution_count": 5,
   "metadata": {
    "colab": {
     "base_uri": "https://localhost:8080/"
    },
    "id": "yylFLrVlScDi",
    "outputId": "4dceec92-7687-49bb-8381-b051053be701"
   },
   "outputs": [],
   "source": [
    "# !pip install gurobipy\n",
    "\n",
    "# from google.colab import drive\n",
    "# drive.mount('/content/drive')\n",
    "\n",
    "from gurobipy import *"
   ]
  },
  {
   "cell_type": "markdown",
   "metadata": {},
   "source": [
    "## load testcases"
   ]
  },
  {
   "cell_type": "code",
   "execution_count": 2,
   "metadata": {},
   "outputs": [],
   "source": [
    "import joblib\n",
    "prefix = './data/testcases'\n",
    "testcase = joblib.load(f'{prefix}/testcase_even_k5_Q30')\n",
    "n_node = testcase['n_node']\n",
    "d = testcase['d']\n",
    "b = testcase['b']\n",
    "Q = testcase['Q']\n",
    "n_vehicle = testcase['n_vehicle']"
   ]
  },
  {
   "cell_type": "code",
   "execution_count": 23,
   "metadata": {},
   "outputs": [
    {
     "ename": "GurobiError",
     "evalue": "Unsupported type (<class 'generator'>) for LinExpr addition argument",
     "output_type": "error",
     "traceback": [
      "\u001b[0;31m---------------------------------------------------------------------------\u001b[0m",
      "\u001b[0;31mGurobiError\u001b[0m                               Traceback (most recent call last)",
      "Input \u001b[0;32mIn [23]\u001b[0m, in \u001b[0;36m<cell line: 1>\u001b[0;34m()\u001b[0m\n\u001b[0;32m----> 1\u001b[0m \u001b[43mVRP\u001b[49m\u001b[43m(\u001b[49m\u001b[43m)\u001b[49m\n",
      "Input \u001b[0;32mIn [22]\u001b[0m, in \u001b[0;36mVRP\u001b[0;34m(n_node, n_vehicle, d, Q, b)\u001b[0m\n\u001b[1;32m     51\u001b[0m         vrp\u001b[38;5;241m.\u001b[39maddConstrs((r[k][i][j] \u001b[38;5;241m<\u001b[39m\u001b[38;5;241m=\u001b[39m Q \u001b[38;5;241m*\u001b[39m x[k][i][j] \u001b[38;5;28;01mfor\u001b[39;00m i \u001b[38;5;129;01min\u001b[39;00m \u001b[38;5;28mrange\u001b[39m(n_node \u001b[38;5;241m+\u001b[39m \u001b[38;5;241m1\u001b[39m)), \u001b[38;5;124m'\u001b[39m\u001b[38;5;124mconnect r and x\u001b[39m\u001b[38;5;124m'\u001b[39m)\n\u001b[1;32m     55\u001b[0m \u001b[38;5;66;03m# demand fulfillment\u001b[39;00m\n\u001b[0;32m---> 56\u001b[0m \u001b[43mvrp\u001b[49m\u001b[38;5;241;43m.\u001b[39;49m\u001b[43maddConstrs\u001b[49m\u001b[43m(\u001b[49m\u001b[43m(\u001b[49m\u001b[43mquicksum\u001b[49m\u001b[43m(\u001b[49m\u001b[43m(\u001b[49m\u001b[43mr\u001b[49m\u001b[43m[\u001b[49m\u001b[43mk\u001b[49m\u001b[43m]\u001b[49m\u001b[43m[\u001b[49m\u001b[43mi\u001b[49m\u001b[43m]\u001b[49m\u001b[43m[\u001b[49m\u001b[43mj\u001b[49m\u001b[43m]\u001b[49m\u001b[43m \u001b[49m\u001b[38;5;28;43;01mfor\u001b[39;49;00m\u001b[43m \u001b[49m\u001b[43mi\u001b[49m\u001b[43m \u001b[49m\u001b[38;5;129;43;01min\u001b[39;49;00m\u001b[43m \u001b[49m\u001b[38;5;28;43mrange\u001b[39;49m\u001b[43m(\u001b[49m\u001b[43mn_node\u001b[49m\u001b[43m \u001b[49m\u001b[38;5;241;43m+\u001b[39;49m\u001b[43m \u001b[49m\u001b[38;5;241;43m1\u001b[39;49m\u001b[43m)\u001b[49m\u001b[43m)\u001b[49m\u001b[43m \u001b[49m\n\u001b[1;32m     57\u001b[0m \u001b[43m                         \u001b[49m\u001b[38;5;28;43;01mfor\u001b[39;49;00m\u001b[43m \u001b[49m\u001b[43mk\u001b[49m\u001b[43m \u001b[49m\u001b[38;5;129;43;01min\u001b[39;49;00m\u001b[43m \u001b[49m\u001b[38;5;28;43mrange\u001b[39;49m\u001b[43m(\u001b[49m\u001b[43mn_vehicle\u001b[49m\u001b[43m)\u001b[49m\u001b[43m)\u001b[49m\u001b[43m \u001b[49m\u001b[38;5;241;43m+\u001b[39;49m\u001b[43m \u001b[49m\u001b[43mb\u001b[49m\u001b[43m[\u001b[49m\u001b[43mj\u001b[49m\u001b[43m]\u001b[49m\u001b[43m \u001b[49m\u001b[38;5;241;43m==\u001b[39;49m\u001b[43m \u001b[49m\n\u001b[1;32m     58\u001b[0m \u001b[43m                \u001b[49m\u001b[43mquicksum\u001b[49m\u001b[43m(\u001b[49m\u001b[43m(\u001b[49m\u001b[43mr\u001b[49m\u001b[43m[\u001b[49m\u001b[43mk\u001b[49m\u001b[43m]\u001b[49m\u001b[43m[\u001b[49m\u001b[43mj\u001b[49m\u001b[43m]\u001b[49m\u001b[43m[\u001b[49m\u001b[43mi\u001b[49m\u001b[43m]\u001b[49m\u001b[43m \u001b[49m\u001b[38;5;28;43;01mfor\u001b[39;49;00m\u001b[43m \u001b[49m\u001b[43mi\u001b[49m\u001b[43m \u001b[49m\u001b[38;5;129;43;01min\u001b[39;49;00m\u001b[43m \u001b[49m\u001b[38;5;28;43mrange\u001b[39;49m\u001b[43m(\u001b[49m\u001b[43mn_node\u001b[49m\u001b[43m \u001b[49m\u001b[38;5;241;43m+\u001b[39;49m\u001b[43m \u001b[49m\u001b[38;5;241;43m1\u001b[39;49m\u001b[43m)\u001b[49m\u001b[43m)\u001b[49m\u001b[43m \u001b[49m\n\u001b[1;32m     59\u001b[0m \u001b[43m                         \u001b[49m\u001b[38;5;28;43;01mfor\u001b[39;49;00m\u001b[43m \u001b[49m\u001b[43mk\u001b[49m\u001b[43m \u001b[49m\u001b[38;5;129;43;01min\u001b[39;49;00m\u001b[43m \u001b[49m\u001b[38;5;28;43mrange\u001b[39;49m\u001b[43m(\u001b[49m\u001b[43mn_vehicle\u001b[49m\u001b[43m)\u001b[49m\u001b[43m)\u001b[49m\u001b[43m \u001b[49m\u001b[38;5;28;43;01mfor\u001b[39;49;00m\u001b[43m \u001b[49m\u001b[43mj\u001b[49m\u001b[43m \u001b[49m\u001b[38;5;129;43;01min\u001b[39;49;00m\u001b[43m \u001b[49m\u001b[38;5;28;43mrange\u001b[39;49m\u001b[43m(\u001b[49m\u001b[43mn_node\u001b[49m\u001b[43m \u001b[49m\u001b[38;5;241;43m+\u001b[39;49m\u001b[43m \u001b[49m\u001b[38;5;241;43m1\u001b[39;49m\u001b[43m)\u001b[49m\u001b[43m)\u001b[49m\u001b[43m,\u001b[49m\u001b[43m \u001b[49m\u001b[38;5;124;43m'\u001b[39;49m\u001b[38;5;124;43mdemand fulfillment\u001b[39;49m\u001b[38;5;124;43m'\u001b[39;49m\u001b[43m)\u001b[49m\n\u001b[1;32m     61\u001b[0m \u001b[38;5;66;03m# 載0台出門\u001b[39;00m\n\u001b[1;32m     62\u001b[0m vrp\u001b[38;5;241m.\u001b[39maddConstrs((quicksum(r[k][\u001b[38;5;241m0\u001b[39m][j] \u001b[38;5;28;01mfor\u001b[39;00m j \u001b[38;5;129;01min\u001b[39;00m \u001b[38;5;28mrange\u001b[39m(n_node \u001b[38;5;241m+\u001b[39m \u001b[38;5;241m1\u001b[39m)) \u001b[38;5;241m==\u001b[39m \u001b[38;5;241m0\u001b[39m \u001b[38;5;28;01mfor\u001b[39;00m k \u001b[38;5;129;01min\u001b[39;00m \u001b[38;5;28mrange\u001b[39m(n_vehicle)), \u001b[38;5;124m'\u001b[39m\u001b[38;5;124mempty at start\u001b[39m\u001b[38;5;124m'\u001b[39m)\n",
      "File \u001b[0;32msrc/gurobipy/model.pxi:3535\u001b[0m, in \u001b[0;36mgurobipy.Model.addConstrs\u001b[0;34m()\u001b[0m\n",
      "Input \u001b[0;32mIn [22]\u001b[0m, in \u001b[0;36m<genexpr>\u001b[0;34m(.0)\u001b[0m\n\u001b[1;32m     51\u001b[0m         vrp\u001b[38;5;241m.\u001b[39maddConstrs((r[k][i][j] \u001b[38;5;241m<\u001b[39m\u001b[38;5;241m=\u001b[39m Q \u001b[38;5;241m*\u001b[39m x[k][i][j] \u001b[38;5;28;01mfor\u001b[39;00m i \u001b[38;5;129;01min\u001b[39;00m \u001b[38;5;28mrange\u001b[39m(n_node \u001b[38;5;241m+\u001b[39m \u001b[38;5;241m1\u001b[39m)), \u001b[38;5;124m'\u001b[39m\u001b[38;5;124mconnect r and x\u001b[39m\u001b[38;5;124m'\u001b[39m)\n\u001b[1;32m     55\u001b[0m \u001b[38;5;66;03m# demand fulfillment\u001b[39;00m\n\u001b[0;32m---> 56\u001b[0m vrp\u001b[38;5;241m.\u001b[39maddConstrs((\u001b[43mquicksum\u001b[49m\u001b[43m(\u001b[49m\u001b[43m(\u001b[49m\u001b[43mr\u001b[49m\u001b[43m[\u001b[49m\u001b[43mk\u001b[49m\u001b[43m]\u001b[49m\u001b[43m[\u001b[49m\u001b[43mi\u001b[49m\u001b[43m]\u001b[49m\u001b[43m[\u001b[49m\u001b[43mj\u001b[49m\u001b[43m]\u001b[49m\u001b[43m \u001b[49m\u001b[38;5;28;43;01mfor\u001b[39;49;00m\u001b[43m \u001b[49m\u001b[43mi\u001b[49m\u001b[43m \u001b[49m\u001b[38;5;129;43;01min\u001b[39;49;00m\u001b[43m \u001b[49m\u001b[38;5;28;43mrange\u001b[39;49m\u001b[43m(\u001b[49m\u001b[43mn_node\u001b[49m\u001b[43m \u001b[49m\u001b[38;5;241;43m+\u001b[39;49m\u001b[43m \u001b[49m\u001b[38;5;241;43m1\u001b[39;49m\u001b[43m)\u001b[49m\u001b[43m)\u001b[49m\u001b[43m \u001b[49m\n\u001b[1;32m     57\u001b[0m \u001b[43m                         \u001b[49m\u001b[38;5;28;43;01mfor\u001b[39;49;00m\u001b[43m \u001b[49m\u001b[43mk\u001b[49m\u001b[43m \u001b[49m\u001b[38;5;129;43;01min\u001b[39;49;00m\u001b[43m \u001b[49m\u001b[38;5;28;43mrange\u001b[39;49m\u001b[43m(\u001b[49m\u001b[43mn_vehicle\u001b[49m\u001b[43m)\u001b[49m\u001b[43m)\u001b[49m \u001b[38;5;241m+\u001b[39m b[j] \u001b[38;5;241m==\u001b[39m \n\u001b[1;32m     58\u001b[0m                 quicksum((r[k][j][i] \u001b[38;5;28;01mfor\u001b[39;00m i \u001b[38;5;129;01min\u001b[39;00m \u001b[38;5;28mrange\u001b[39m(n_node \u001b[38;5;241m+\u001b[39m \u001b[38;5;241m1\u001b[39m)) \n\u001b[1;32m     59\u001b[0m                          \u001b[38;5;28;01mfor\u001b[39;00m k \u001b[38;5;129;01min\u001b[39;00m \u001b[38;5;28mrange\u001b[39m(n_vehicle)) \u001b[38;5;28;01mfor\u001b[39;00m j \u001b[38;5;129;01min\u001b[39;00m \u001b[38;5;28mrange\u001b[39m(n_node \u001b[38;5;241m+\u001b[39m \u001b[38;5;241m1\u001b[39m)), \u001b[38;5;124m'\u001b[39m\u001b[38;5;124mdemand fulfillment\u001b[39m\u001b[38;5;124m'\u001b[39m)\n\u001b[1;32m     61\u001b[0m \u001b[38;5;66;03m# 載0台出門\u001b[39;00m\n\u001b[1;32m     62\u001b[0m vrp\u001b[38;5;241m.\u001b[39maddConstrs((quicksum(r[k][\u001b[38;5;241m0\u001b[39m][j] \u001b[38;5;28;01mfor\u001b[39;00m j \u001b[38;5;129;01min\u001b[39;00m \u001b[38;5;28mrange\u001b[39m(n_node \u001b[38;5;241m+\u001b[39m \u001b[38;5;241m1\u001b[39m)) \u001b[38;5;241m==\u001b[39m \u001b[38;5;241m0\u001b[39m \u001b[38;5;28;01mfor\u001b[39;00m k \u001b[38;5;129;01min\u001b[39;00m \u001b[38;5;28mrange\u001b[39m(n_vehicle)), \u001b[38;5;124m'\u001b[39m\u001b[38;5;124mempty at start\u001b[39m\u001b[38;5;124m'\u001b[39m)\n",
      "File \u001b[0;32msrc/gurobipy/gurobi.pxi:3632\u001b[0m, in \u001b[0;36mgurobipy.quicksum\u001b[0;34m()\u001b[0m\n",
      "File \u001b[0;32msrc/gurobipy/linexpr.pxi:473\u001b[0m, in \u001b[0;36mgurobipy.LinExpr.__iadd__\u001b[0;34m()\u001b[0m\n",
      "File \u001b[0;32msrc/gurobipy/linexpr.pxi:183\u001b[0m, in \u001b[0;36mgurobipy.LinExpr.add\u001b[0;34m()\u001b[0m\n",
      "\u001b[0;31mGurobiError\u001b[0m: Unsupported type (<class 'generator'>) for LinExpr addition argument"
     ]
    }
   ],
   "source": [
    "VRP()"
   ]
  },
  {
   "cell_type": "code",
   "execution_count": 22,
   "metadata": {
    "id": "shXIEUXdUutK"
   },
   "outputs": [],
   "source": [
    "def VRP(n_node = n_node, \n",
    "        n_vehicle = n_vehicle, \n",
    "        d = d, Q = Q, b = b):\n",
    "    \"\"\"\n",
    "    參數定義：\n",
    "    n_node - 整數，租借站個數（不包含depot node）\n",
    "    n_vehicle - 整數，卡車數量\n",
    "    d　- 二維list，大小為n_node + 1 * n_node + 1，d[i][j]為node i到node j的距離，node 0到所有node距離為0\n",
    "    b - 一維list，大小為n_node + 1, b[j]為node j的淨供給，b[0] = -(所有node總和)\n",
    "    Q - 整數，一輛卡車能承載的腳踏車數\n",
    "    \"\"\"\n",
    "    vrp = Model(\"vrp\")\n",
    "\n",
    "    # add variables as a list\n",
    "    x = []\n",
    "    r = []\n",
    "    for k in range(n_vehicle):\n",
    "        x.append([])\n",
    "        r.append([])\n",
    "        for i in range(n_node + 1):\n",
    "            x[k].append([])\n",
    "            r[k].append([])\n",
    "            for j in range(n_node + 1):\n",
    "                x[k][i].append(vrp.addVar(lb=0, vtype = GRB.BINARY, name='_'.join([\"x\", str(i), str(j), str(k + 1)])))\n",
    "                r[k][i].append(vrp.addVar(lb=0, ub=Q, vtype = GRB.CONTINUOUS, name='_'.join([\"x\", str(i), str(j), str(k + 1)])))\n",
    "    \n",
    "    w = vrp.addVar(lb = 0, vtype = GRB.CONTINUOUS, name = \"w\")\n",
    "\n",
    "    # set obj and constraint\n",
    "    vrp.setObjective(w, GRB.MINIMIZE)\n",
    "\n",
    "    for k in range(n_vehicle):\n",
    "        for i in range(n_node + 1):\n",
    "            for j in range(n_node + 1):\n",
    "                if i == j:\n",
    "                    vrp.addConstr(x[k][i][j] == 0, '{} != {} constraint for vehicle {}'.format(i, j, k + 1))\n",
    "    \n",
    "    # 進=出\n",
    "    for j in range(n_node + 1):\n",
    "        for k in range(n_vehicle):\n",
    "            vrp.addConstr(quicksum(x[k][i][j] for i in range(n_node + 1))\n",
    "                             == quicksum(x[k][j][i] for i in range(n_node + 1)),'in=out')\n",
    "    \n",
    "    # 起點&終點為0\n",
    "    vrp.addConstrs((quicksum(x[k][0][j] for j in range(n_node + 1)) == 1 for k in range(n_vehicle)), 'start')\n",
    "    vrp.addConstrs((quicksum(x[k][j][0] for j in range(n_node + 1)) == 1 for k in range(n_vehicle)), 'end')\n",
    "\n",
    "    # 連結r和x，Q為r的upperbound\n",
    "    for j in range(n_node + 1):\n",
    "        for k in range(n_vehicle):\n",
    "            vrp.addConstrs((r[k][i][j] <= Q * x[k][i][j] for i in range(n_node + 1)), 'connect r and x')\n",
    "\n",
    "    \n",
    "    \n",
    "    # demand fulfillment\n",
    "    vrp.addConstrs((quicksum((r[k][i][j] for i in range(n_node + 1)) \n",
    "                             for k in range(n_vehicle)) + b[j] == \n",
    "                    quicksum((r[k][j][i] for i in range(n_node + 1)) \n",
    "                             for k in range(n_vehicle)) for j in range(n_node + 1)), 'demand fulfillment')\n",
    "\n",
    "    # 載0台出門\n",
    "    vrp.addConstrs((quicksum(r[k][0][j] for j in range(n_node + 1)) == 0 for k in range(n_vehicle)), 'empty at start')\n",
    "\n",
    "    # 吸收多餘supply\n",
    "    vrp.addConstr(quicksum((r[k][j][0] for j in range(n_node + 1)) for k in range(n_vehicle)) == quicksum(b[j] for j in range(1, n_node + 1)), 'remaining supply')\n",
    "\n",
    "    # makespan\n",
    "    vrp.addConstrs((w >= quicksum((d[i][j] * x[k][i][j] for i in range(1, n_node + 1)) for j in range(1, n_node + 1)) for k in range(n_vehicle)), 'makespan')\n",
    "\n",
    "    # subtour還沒想到\n",
    "\n",
    "    vrp.optimize()\n",
    "\n",
    "    return x, r\n"
   ]
  }
 ],
 "metadata": {
  "colab": {
   "name": "modeling.ipynb",
   "provenance": []
  },
  "kernelspec": {
   "display_name": "Python 3 (ipykernel)",
   "language": "python",
   "name": "python3"
  },
  "language_info": {
   "codemirror_mode": {
    "name": "ipython",
    "version": 3
   },
   "file_extension": ".py",
   "mimetype": "text/x-python",
   "name": "python",
   "nbconvert_exporter": "python",
   "pygments_lexer": "ipython3",
   "version": "3.8.12"
  }
 },
 "nbformat": 4,
 "nbformat_minor": 4
}
