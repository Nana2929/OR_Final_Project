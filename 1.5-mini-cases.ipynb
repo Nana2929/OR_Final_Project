{
 "cells": [
  {
   "cell_type": "markdown",
   "id": "787f9c76-2f7b-4666-a90b-99ac14477a9a",
   "metadata": {},
   "source": [
    "# Youbike 2.0 Data Preprocessing (2)"
   ]
  },
  {
   "cell_type": "markdown",
   "id": "053a175d-5a59-42e2-bd8b-d98c9a012c84",
   "metadata": {},
   "source": [
    "1. get the one stop from each section \n",
    "    我自己是肉眼看挑比較離台大不要太遠、比較有代表性、比較大的站點，沒特別想法的話就選站點1。    \n",
    "    （https://drive.google.com/drive/folders/1oTzk_Mel65__q8qR9tv4TFEtk5vrnnAB）\n",
    "    \n",
    "2. select from the distance matrix, the matrix is saved @ mini_dmat.txt \n",
    "    (with depot node)\n",
    "   , and mini_dmat_withou_depot.txt is without depot node. \n",
    "   , select and reorder the dataframe to mini_Ubike站點供給.csv\n",
    "   \n",
    "3. output testcases **without n_vehickle and capacity** into mini_testcase_早九 and mini_testcase_晚五"
   ]
  },
  {
   "cell_type": "code",
   "execution_count": 48,
   "id": "2e35f983-c5c0-42ac-85b1-a365e229e204",
   "metadata": {},
   "outputs": [],
   "source": [
    "stoppath = './data/Ubike站點供給_v3.csv'\n",
    "mappingpath = './data/idx2stop.pkl'\n",
    "import pandas as pd\n",
    "import joblib\n",
    "import numpy as np"
   ]
  },
  {
   "cell_type": "code",
   "execution_count": 41,
   "id": "04d50ab1-d848-4398-997c-3887f33900dd",
   "metadata": {},
   "outputs": [],
   "source": [
    "\n",
    "df = pd.read_csv(stoppath)\n",
    "idx2stop = joblib.load(mappingpath)"
   ]
  },
  {
   "cell_type": "code",
   "execution_count": 17,
   "id": "6f2f2599-1142-4d64-bdee-ea93f1f0c5b5",
   "metadata": {},
   "outputs": [],
   "source": [
    "# add section-idx to this mapping\n",
    "stop2idx = {v:k for k, v in idx2stop.items()}\n",
    "for i in range(len(df)):\n",
    "    row = df.iloc[i]\n",
    "    \n",
    "    stopname = row['站位名稱']\n",
    "    sectionidx = row['站位編號']\n",
    "    matidx = stop2idx[stopname]\n",
    "    stop2idx[stopname] = [matidx, sectionidx]\n",
    "# stop2idx\n"
   ]
  },
  {
   "cell_type": "code",
   "execution_count": 23,
   "id": "003f598c-e9e8-4f74-9aa2-b746c5af3829",
   "metadata": {},
   "outputs": [],
   "source": [
    "# stop2idx"
   ]
  },
  {
   "cell_type": "code",
   "execution_count": 19,
   "id": "d0bbae9a-a6ab-4db6-bab4-e5497d353ad9",
   "metadata": {},
   "outputs": [],
   "source": [
    "keeps = ['1-2', '2-1', '3-4',\n",
    "         '4-1', '5-3', '6-1', \n",
    "         '7-4', '8-1', '9-1', \n",
    "         '10-1', '11-1', '12-1', \n",
    "         '13-1', '14-1', '15-1', '16-4']"
   ]
  },
  {
   "cell_type": "code",
   "execution_count": 20,
   "id": "ddeb75e0-615b-428c-82ab-761c2477be7c",
   "metadata": {},
   "outputs": [],
   "source": [
    "mini_stop2idx = {}\n",
    "for k, v in stop2idx.items():\n",
    "    if v[1] in keeps:\n",
    "        mini_stop2idx[k] = v\n",
    "# joblib.dump(stop2idx, './data/mini_stop2idx.pkl')"
   ]
  },
  {
   "cell_type": "code",
   "execution_count": 24,
   "id": "f459a467-c428-4ebe-a482-8d1f4c19a47b",
   "metadata": {},
   "outputs": [
    {
     "data": {
      "text/plain": [
       "{'新生南路三段82號前': [3, '16-4'],\n",
       " '捷運公館站(2號出口)': [11, '1-2'],\n",
       " '臺大法人語言訓練中心前': [15, '10-1'],\n",
       " '辛亥新生路口東南側': [17, '13-1'],\n",
       " '臺大天文數學館南側': [29, '11-1'],\n",
       " '臺大舊體育館西側': [34, '12-1'],\n",
       " '臺大公館停車場西北側': [38, '3-4'],\n",
       " '臺大第二行政大樓南側': [39, '6-1'],\n",
       " '臺大明達館機車停車場': [40, '8-1'],\n",
       " '臺大第一活動中心西南側': [51, '7-4'],\n",
       " '臺大博理館西側': [52, '9-1'],\n",
       " '臺大一號館': [55, '5-3'],\n",
       " '臺大小小福西南側': [56, '4-1'],\n",
       " '捷運科技大樓站': [66, '14-1'],\n",
       " '臺大水源舍區B棟': [78, '2-1'],\n",
       " '捷運臺電大樓站(2號出口)': [81, '15-1']}"
      ]
     },
     "execution_count": 24,
     "metadata": {},
     "output_type": "execute_result"
    }
   ],
   "source": [
    "mini_stop2idx"
   ]
  },
  {
   "cell_type": "code",
   "execution_count": 29,
   "id": "5446ed92-0a95-40b3-a0cd-6682973a8392",
   "metadata": {},
   "outputs": [],
   "source": [
    "N_NODE = 16"
   ]
  },
  {
   "cell_type": "code",
   "execution_count": 43,
   "id": "eeb8a901-d1e0-40fc-82d2-d9c11e921774",
   "metadata": {},
   "outputs": [],
   "source": [
    "def make_new_bi(df, \n",
    "                n_node = N_NODE):\n",
    "    def get_bi(sup_pre, dem, pole_pre):\n",
    "        init = sup_pre - dem \n",
    "        if init < 0 and abs(init) > pole_pre:\n",
    "            return - pole_pre\n",
    "        return init \n",
    "    for time in ['早九', '晚五']:\n",
    "        df[f'{time}_bi'] = df.apply(lambda x: get_bi(x[f'{time}可借車數_pre'], x[f'{time}借車人數'], x[f'{time}空柱數量_pre']), axis = 1)\n",
    "    keepindices = []\n",
    "    for i in range(len(df)):\n",
    "        row = df.iloc[i]\n",
    "        stopname = row['站位名稱']\n",
    "        sectionidx = row['站位編號']\n",
    "        if sectionidx in keeps:\n",
    "            keepindices.append(i)\n",
    "\n",
    "    # df.drop(df.index[[1,3]])\n",
    "    return keepindices"
   ]
  },
  {
   "cell_type": "code",
   "execution_count": 44,
   "id": "dfdd2e4e-2ab7-464c-a889-02e6b897ac53",
   "metadata": {},
   "outputs": [],
   "source": [
    "to_keep_rows = make_new_bi(df)\n",
    "df = df.iloc[to_keep_rows]\n",
    "# df.to_csv('./data/mini_Ubike站點供給.csv', index = False)"
   ]
  },
  {
   "cell_type": "code",
   "execution_count": 46,
   "id": "62b0bfcb-8cba-4b44-988e-4777390948c0",
   "metadata": {},
   "outputs": [],
   "source": [
    "mini_stop2idx"
   ]
  },
  {
   "cell_type": "code",
   "execution_count": 92,
   "id": "14a58512-7a2e-42ee-92e2-e2fb997f3d2e",
   "metadata": {},
   "outputs": [
    {
     "name": "stdout",
     "output_type": "stream",
     "text": [
      "(81, 81)\n"
     ]
    }
   ],
   "source": [
    "dmatpath = './data/mtx_distance.csv'\n",
    "dmat = pd.read_csv(dmatpath)\n",
    "dmat = dmat.to_numpy()\n",
    "print(dmat.shape)"
   ]
  },
  {
   "cell_type": "code",
   "execution_count": 93,
   "id": "dd954fbf-912b-4900-b364-dcb1ad1365ab",
   "metadata": {},
   "outputs": [
    {
     "name": "stdout",
     "output_type": "stream",
     "text": [
      "(16, 16)\n"
     ]
    }
   ],
   "source": [
    "keepidx = []\n",
    "for k, v in mini_stop2idx.items():\n",
    "    keepidx.append(v[0])\n",
    "keepidx = [i-1 for i in keepidx]\n",
    "keepidx \n",
    "dmat = dmat[keepidx, :][:,keepidx]\n",
    "print(dmat.shape)\n",
    "newd = np.zeros((N_NODE+1, N_NODE +1))  \n",
    "newd[1:, 1:] = dmat\n",
    "np.savetxt('./data/mini_dmat_without_depot.txt', dmat, delimiter=',')   \n",
    "np.savetxt('./data/mini_dmat.txt', newd, delimiter=',')"
   ]
  },
  {
   "cell_type": "code",
   "execution_count": 68,
   "id": "affcdce3-5f8c-4418-a5ff-f002ec22ac48",
   "metadata": {},
   "outputs": [
    {
     "data": {
      "text/plain": [
       "[2, 10, 14, 16, 28, 33, 37, 38, 39, 50, 51, 54, 55, 65, 77, 80]"
      ]
     },
     "execution_count": 68,
     "metadata": {},
     "output_type": "execute_result"
    }
   ],
   "source": [
    "keepidx"
   ]
  },
  {
   "cell_type": "markdown",
   "id": "24b483d2-9dbb-4db8-a1ec-a81f26791842",
   "metadata": {},
   "source": [
    "Make 2 mini-testcases for 早九 and 晚五 respectively"
   ]
  },
  {
   "cell_type": "code",
   "execution_count": 78,
   "id": "b7629a6b-b16f-4bba-a5c0-6d290d4819b4",
   "metadata": {},
   "outputs": [
    {
     "data": {
      "text/plain": [
       "['16-4',\n",
       " '1-2',\n",
       " '10-1',\n",
       " '13-1',\n",
       " '11-1',\n",
       " '12-1',\n",
       " '3-4',\n",
       " '6-1',\n",
       " '8-1',\n",
       " '7-4',\n",
       " '9-1',\n",
       " '5-3',\n",
       " '4-1',\n",
       " '14-1',\n",
       " '2-1',\n",
       " '15-1']"
      ]
     },
     "execution_count": 78,
     "metadata": {},
     "output_type": "execute_result"
    }
   ],
   "source": [
    "s = sorted(mini_stop2idx.values(), key= lambda x:x[0])\n",
    "ordered_secidx = [x[1] for x in s]\n",
    "ordered_secidx"
   ]
  },
  {
   "cell_type": "code",
   "execution_count": 87,
   "id": "98f01c92-e33a-41cc-b5a4-1ff0a87e9758",
   "metadata": {},
   "outputs": [],
   "source": [
    "# reorder dataframe for distance matrix \n",
    "df_ = df.set_index(\"站位編號\", drop = True)\n",
    "df_ = df_.reindex(ordered_secidx)\n",
    "df_ = df_.reset_index(drop = False)"
   ]
  },
  {
   "cell_type": "code",
   "execution_count": 89,
   "id": "d7e45c52-cdbd-46b8-85c8-10dfb394b8cf",
   "metadata": {},
   "outputs": [],
   "source": [
    "#df_"
   ]
  },
  {
   "cell_type": "code",
   "execution_count": 90,
   "id": "8ec66eee-107b-4de9-8f41-6de849c3ce3f",
   "metadata": {},
   "outputs": [],
   "source": [
    "# reorder the dataframe to correpond to the distance matrix\n",
    "df_.to_csv('./data/mini_Ubike站點供給.csv', index = False)"
   ]
  },
  {
   "cell_type": "code",
   "execution_count": 96,
   "id": "6b04d675-1a7e-43bc-b141-dff6b0d53355",
   "metadata": {},
   "outputs": [],
   "source": [
    "def gen_cases(data = df_, \n",
    "              dmatrixpath = './data/mini_dmat.txt'):\n",
    "    dmat = np.loadtxt(dmatrixpath, delimiter=',')\n",
    "    for time in ['早九', '晚五']:\n",
    "        \n",
    "        dire = './data/mini-testcases'\n",
    "        file_prefix = f'{dire}/mini_testcase'\n",
    "        b = data[f'{time}_bi'].tolist()\n",
    "        b.insert(0, -sum(b))\n",
    "        testcase = {'n_node':N_NODE, 'b':b, 'd':dmat} \n",
    "        joblib.dump(testcase, f'{file_prefix}_{time}')\n",
    "gen_cases()"
   ]
  },
  {
   "cell_type": "markdown",
   "id": "da51c04f-e6a9-42c2-9e22-7875d9c3992b",
   "metadata": {},
   "source": [
    "### test loading"
   ]
  },
  {
   "cell_type": "code",
   "execution_count": 99,
   "id": "74efbbe4-9f0e-40f3-9d44-1baa6c469fda",
   "metadata": {},
   "outputs": [
    {
     "name": "stdout",
     "output_type": "stream",
     "text": [
      "(17, 17)\n"
     ]
    },
    {
     "data": {
      "text/plain": [
       "17"
      ]
     },
     "execution_count": 99,
     "metadata": {},
     "output_type": "execute_result"
    }
   ],
   "source": [
    "case = joblib.load('./data/mini-testcases/mini_testcase_早九')\n",
    "print(case['d'].shape)\n",
    "len(case['b'])\n"
   ]
  },
  {
   "cell_type": "code",
   "execution_count": null,
   "id": "745b8948-b256-43be-8225-689c05155c9c",
   "metadata": {},
   "outputs": [],
   "source": []
  }
 ],
 "metadata": {
  "kernelspec": {
   "display_name": "Python 3 (ipykernel)",
   "language": "python",
   "name": "python3"
  },
  "language_info": {
   "codemirror_mode": {
    "name": "ipython",
    "version": 3
   },
   "file_extension": ".py",
   "mimetype": "text/x-python",
   "name": "python",
   "nbconvert_exporter": "python",
   "pygments_lexer": "ipython3",
   "version": "3.8.12"
  }
 },
 "nbformat": 4,
 "nbformat_minor": 5
}
