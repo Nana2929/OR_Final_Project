{
 "cells": [
  {
   "cell_type": "markdown",
   "id": "86279911-9da3-47ce-b573-dea00af27d38",
   "metadata": {},
   "source": [
    "# Youbike 2.0 Data Preprocessing "
   ]
  },
  {
   "cell_type": "markdown",
   "id": "42d80c05-5f1f-4187-bae6-97a836f9a48b",
   "metadata": {},
   "source": [
    "\n",
    "sno(站點代號)、sna(中文場站名稱)、tot(場站總停車格)、sbi(可借車位數)、sarea(中文場站區域)、mday(資料更新時間)、lat(緯度)、lng(經度)、ar(中文地址)、sareaen(英文場站區域)、snaen(英文場站名稱)、aren(英文地址)、bemp(可還空位數)、act(場站是否暫停營運)\n",
    "地區/\n",
    "https://data.gov.tw/dataset/137993\n"
   ]
  },
  {
   "cell_type": "code",
   "execution_count": 205,
   "id": "de2e12a6-70e6-454c-aab4-ca48a693c840",
   "metadata": {},
   "outputs": [],
   "source": [
    "import pandas as pd\n",
    "pd.options.display.max_rows = 50\n",
    "pd.options.display.min_rows = 50"
   ]
  },
  {
   "cell_type": "markdown",
   "id": "9a36e97c-bfd1-42dd-b2a4-730919830441",
   "metadata": {
    "tags": []
   },
   "source": [
    "### Cleaning column names, dropping "
   ]
  },
  {
   "cell_type": "code",
   "execution_count": 206,
   "id": "3186cc7e-a82e-47c4-9570-0bdee2bb940a",
   "metadata": {},
   "outputs": [
    {
     "data": {
      "text/plain": [
       "(81, 82)"
      ]
     },
     "execution_count": 206,
     "metadata": {},
     "output_type": "execute_result"
    }
   ],
   "source": [
    "Dmat = pd.read_csv(distpath)\n",
    "Dmat.shape"
   ]
  },
  {
   "cell_type": "code",
   "execution_count": 265,
   "id": "77d0881c-5c54-413c-b6b0-81db4552f583",
   "metadata": {},
   "outputs": [],
   "source": [
    "coords = pd.read_csv(coordpath)\n",
    "# coords.rename(columns = {'geometry': 'lng', 'Unnamed: 10':'lat'}, inplace = True)\n",
    "# coords.to_csv(coordpath, index = False)\n",
    "# coords"
   ]
  },
  {
   "cell_type": "markdown",
   "id": "d5563730-3352-4f49-a696-c38beb7e14ab",
   "metadata": {},
   "source": [
    "## Preprocessing stop information"
   ]
  },
  {
   "cell_type": "code",
   "execution_count": 107,
   "id": "a34e8cf7-73f1-4217-8f99-2b51dc6d3d14",
   "metadata": {},
   "outputs": [],
   "source": [
    "sectionpath = './data/Ubike分區供給.csv'\n",
    "stoppath = './data/Ubike站點供給_v3.csv'"
   ]
  },
  {
   "cell_type": "code",
   "execution_count": 283,
   "id": "78fd0a13-a846-448a-af0b-4cdceeab0639",
   "metadata": {},
   "outputs": [
    {
     "data": {
      "text/plain": [
       "81"
      ]
     },
     "execution_count": 283,
     "metadata": {},
     "output_type": "execute_result"
    }
   ],
   "source": [
    "# fill the last stop's missing values with 0 \n",
    "# (very likely an excluded stop) \n",
    "df = pd.read_csv(stoppath)\n",
    "df.head()\n",
    "df = df.fillna(0) \n",
    "len(df)"
   ]
  },
  {
   "cell_type": "markdown",
   "id": "f746d1c1-18ab-4e99-9607-1196f3095d00",
   "metadata": {},
   "source": [
    "1. initial bi: `早九可借車數_pre` - `早九借車人數`\n",
    "2. revise bi: check if bi is negative, |bi| exceeds `早九空柱數量_pre`, \n",
    "            meaning that we can only transport `早九空柱數量_pre` this many bikes to that demand node. "
   ]
  },
  {
   "cell_type": "code",
   "execution_count": 282,
   "id": "74e7b620-ecb0-4177-ab39-298c50a7521a",
   "metadata": {},
   "outputs": [],
   "source": [
    "def get_bi(sup_pre, dem, pole_pre):\n",
    "    init = sup_pre - dem \n",
    "    if init < 0 and abs(init) > pole_pre:\n",
    "        return - pole_pre\n",
    "    return init \n",
    "def get_init_bi(sup_pre, dem):\n",
    "    return sup_pre - dem \n"
   ]
  },
  {
   "cell_type": "code",
   "execution_count": 293,
   "id": "c6d37fef-1e7b-422c-a566-fb2511288a29",
   "metadata": {},
   "outputs": [],
   "source": [
    "\n",
    "def make_new_bi(df, \n",
    "                idx2stop, \n",
    "                ismorn = True,\n",
    "                n_node = 81):\n",
    "\n",
    "    stopinfo = df['站位名稱']\n",
    "    df.fillna(0, inplace =True)\n",
    "    time = '早九' if ismorn else '晚五'\n",
    "    df['bi'] = df.apply(lambda x: get_bi(x[f'{time}可借車數_pre'], x[f'{time}借車人數'], x[f'{time}空柱數量_pre']), axis = 1)\n",
    "    df['init_bi'] = df.apply(lambda x: get_init_bi(x[f'{time}可借車數_pre'], x[f'{time}借車人數']), axis = 1)\n",
    "    \n",
    "    bi = df['bi'].tolist()\n",
    "    init_bi = df['init_bi'].tolist()\n",
    "    stop2bi = {stopinfo[i]:(bi[i],init_bi[i]) for i in range(n_node)}\n",
    "    new_bi = [None]*(n_node+1)\n",
    "    new_init_bi = [None]*(n_node+1)\n",
    "    for k, v in idx2stop.items():\n",
    "        new_bi[k] = stop2bi[v][0]\n",
    "        new_init_bi[k] = stop2bi[v][1]\n",
    "    new_bi[0] = -sum(new_bi[1:])\n",
    "    new_init_bi[0] = -sum(new_init_bi[1:])\n",
    "    return new_bi, new_init_bi "
   ]
  },
  {
   "cell_type": "markdown",
   "id": "065841af-10eb-492f-99b3-d44333ed61c3",
   "metadata": {},
   "source": [
    "Modeling the formulation: https://colab.research.google.com/drive/1aKqZKc3tzzFa0wBtboRlZOYfMkwCe_UQ#scrollTo=shXIEUXdUutK\n",
    "\n",
    "```\n",
    "- n_node - 整數，租借站個數（不包含depot node）\n",
    "- n_vehicle - 整數，卡車數量\n",
    "- d　- 二維list，大小為n_node + 1 * n_node + 1，d[i][j]為node i到node j的距離，node 0到所有node距離為0\n",
    "- b - 一維list，大小為n_node + 1, b[j]為node j的淨供給，b[0] = -(所有node總和)\n",
    "- Q - 整數，一輛卡車能承載的腳踏車數\n",
    "```"
   ]
  },
  {
   "cell_type": "code",
   "execution_count": 321,
   "id": "9418fb0f-6416-4c61-9e01-a7dc47e5f180",
   "metadata": {},
   "outputs": [],
   "source": [
    "import numpy as np\n",
    "def get_dmat(distpath = './data/mtx_distance.csv' , n_node = 81):\n",
    "    '''to be revised after mapping is out'''\n",
    "    # dm = get_dmat(distpath)\n",
    "    # distpath = './data/mtx_distance.xlsx'\n",
    "    dmat = pd.read_csv(distpath)\n",
    "    dmat = dmat.to_numpy()\n",
    "    print(dmat.shape)\n",
    "    # distance_data = distance_data.index = distance_data['index']\n",
    "    newd = np.zeros((n_node+1, n_node+1))\n",
    "    \n",
    "    newd[1:, 1:] = dmat\n",
    "    print(f'(raw) n_node: {n_node} ')\n",
    "    print(f'(adding depot) n_node: {n_node+1} ')\n",
    "    print(f'final distance matrix size: {newd.shape}')\n",
    "    return newd.tolist()\n",
    "    "
   ]
  },
  {
   "cell_type": "code",
   "execution_count": null,
   "id": "d41c8ce1-9202-4087-be93-3e0f4e25b561",
   "metadata": {},
   "outputs": [],
   "source": [
    "# idx2stop = pd.read_csv(dictpath, \n",
    "#                        encoding='cp950', header=None, index_col=0).squeeze(\"columns\").to_dict()\n",
    "\n",
    "# idx2stop = idx2stop[2]\n",
    "# from math import isnan\n",
    "# idx2stop = {int(k):v for k, v in idx2stop.items() if not isnan(k)}\n",
    "# idx2stop[69] = '捷運科技大樓站(台北教育大學)' # typo \n",
    "# joblib.dump(idx2stop, './data/idx2stop.pkl')"
   ]
  },
  {
   "cell_type": "code",
   "execution_count": 313,
   "id": "3296e0cc-9822-45c2-a5c1-7fb35b38f17a",
   "metadata": {},
   "outputs": [],
   "source": [
    "distpath = './data/mtx_distance.csv' \n",
    "dictpath = './data/station.csv'\n",
    "dmat = pd.read_csv(distpath)"
   ]
  },
  {
   "cell_type": "code",
   "execution_count": 294,
   "id": "a7e061f8-cf56-4fba-a7f4-0542708552d6",
   "metadata": {},
   "outputs": [],
   "source": [
    "import joblib\n",
    "idx2stop = joblib.load('./data/idx2stop.pkl')\n",
    "b, ib = make_new_bi(df, idx2stop)    "
   ]
  },
  {
   "cell_type": "markdown",
   "id": "47e88417-2bf3-436d-af9c-ae10df1a7295",
   "metadata": {},
   "source": [
    "### outputting"
   ]
  },
  {
   "cell_type": "code",
   "execution_count": 324,
   "id": "1f625c92-6526-4611-848c-e79a50f1f249",
   "metadata": {},
   "outputs": [],
   "source": [
    "import joblib\n",
    "\n",
    "\n",
    "def generate_testcases(sd_path = stoppath, \n",
    "                      distpath = distpath,\n",
    "                      ismorn = True):\n",
    "    \n",
    "    \n",
    "    df = pd.read_csv(sd_path)\n",
    "    n_node = len(df)\n",
    "    d = get_dmat(distpath)\n",
    "    b, init_b = make_new_bi(df, idx2stop)\n",
    "    entime = 'morn' if ismorn else 'even'\n",
    "    print(f'n_node: {n_node}')\n",
    "    print(f'd ({len(d)} * {len(d)} list)')\n",
    "    print(f'b (1 * {len(b)} list)')\n",
    "    \n",
    "    dire = './data/testcases'\n",
    "    file_prefix = f'{dire}/testcase'\n",
    "    testcase = {'n_node':n_node, 'd':d,'b':b, 'init_b': init_b} \n",
    "    # generate n_vehicle and Q \n",
    "    for n_vehicle in range(1, 5+1, 1):\n",
    "        for Q in range(15, 30+1, 5):\n",
    "            testcase['n_vehicle'] = n_vehicle\n",
    "            testcase['Q'] = Q\n",
    "            filename = f'{file_prefix}_{entime}_k{n_vehicle}_Q{Q}'\n",
    "            joblib.dump(testcase, filename)\n",
    "            # print(f'saving to {filename}')\n",
    "            # print('--------------')\n"
   ]
  },
  {
   "cell_type": "code",
   "execution_count": 325,
   "id": "d303f0f8-94b6-4da8-ac42-9d000b198a86",
   "metadata": {},
   "outputs": [
    {
     "name": "stdout",
     "output_type": "stream",
     "text": [
      "(81, 81)\n",
      "(raw) n_node: 81 \n",
      "(adding depot) n_node: 82 \n",
      "final distance matrix size: (82, 82)\n",
      "n_node: 81\n",
      "d (82 * 82 list)\n",
      "b (1 * 82 list)\n",
      "(81, 81)\n",
      "(raw) n_node: 81 \n",
      "(adding depot) n_node: 82 \n",
      "final distance matrix size: (82, 82)\n",
      "n_node: 81\n",
      "d (82 * 82 list)\n",
      "b (1 * 82 list)\n"
     ]
    }
   ],
   "source": [
    "generate_testcases(stoppath, distpath, ismorn = True)\n",
    "generate_testcases(stoppath, distpath, ismorn = False)"
   ]
  },
  {
   "cell_type": "code",
   "execution_count": 331,
   "id": "bc08897f-5836-4189-a93c-d64858741091",
   "metadata": {},
   "outputs": [
    {
     "name": "stdout",
     "output_type": "stream",
     "text": [
      "(82, 82)\n",
      "82\n",
      "81\n",
      "30\n",
      "5\n"
     ]
    }
   ],
   "source": [
    "import joblib\n",
    "prefix = './data/testcases'\n",
    "testcase = joblib.load(f'{prefix}/testcase_even_k5_Q30')\n",
    "n_node = testcase['n_node']\n",
    "d = testcase['d']\n",
    "b = testcase['b']\n",
    "Q = testcase['Q']\n",
    "n_vehicle = testcase['n_vehicle']\n",
    "# print(testcase)\n",
    "print(d.shape)\n",
    "print(len(b))\n",
    "print(n_node) \n",
    "print(Q)\n",
    "print(n_vehicle)"
   ]
  },
  {
   "cell_type": "markdown",
   "id": "28bbe6f1-5928-4ec0-bcdd-2d8927c6c8c8",
   "metadata": {},
   "source": [
    "## Preprocessing section information "
   ]
  },
  {
   "cell_type": "code",
   "execution_count": 28,
   "id": "f04a61ee-da3a-43ba-b0c6-85caa2e3939a",
   "metadata": {},
   "outputs": [
    {
     "data": {
      "text/html": [
       "<div>\n",
       "<style scoped>\n",
       "    .dataframe tbody tr th:only-of-type {\n",
       "        vertical-align: middle;\n",
       "    }\n",
       "\n",
       "    .dataframe tbody tr th {\n",
       "        vertical-align: top;\n",
       "    }\n",
       "\n",
       "    .dataframe thead th {\n",
       "        text-align: right;\n",
       "    }\n",
       "</style>\n",
       "<table border=\"1\" class=\"dataframe\">\n",
       "  <thead>\n",
       "    <tr style=\"text-align: right;\">\n",
       "      <th></th>\n",
       "      <th>所屬區域</th>\n",
       "      <th>區域編號</th>\n",
       "      <th>早九可借車數</th>\n",
       "      <th>早九空柱數量</th>\n",
       "      <th>早九借車人數</th>\n",
       "      <th>早九還車人數</th>\n",
       "      <th>晚五可借車數</th>\n",
       "      <th>晚五空柱數量</th>\n",
       "      <th>晚五借車人數</th>\n",
       "      <th>晚五還車人數</th>\n",
       "    </tr>\n",
       "  </thead>\n",
       "  <tbody>\n",
       "    <tr>\n",
       "      <th>0</th>\n",
       "      <td>捷運公館站周邊</td>\n",
       "      <td>1</td>\n",
       "      <td>7</td>\n",
       "      <td>37.0</td>\n",
       "      <td>86</td>\n",
       "      <td>67</td>\n",
       "      <td>8.0</td>\n",
       "      <td>37.0</td>\n",
       "      <td>24</td>\n",
       "      <td>106</td>\n",
       "    </tr>\n",
       "    <tr>\n",
       "      <th>1</th>\n",
       "      <td>水源校區</td>\n",
       "      <td>2</td>\n",
       "      <td>9</td>\n",
       "      <td>15.0</td>\n",
       "      <td>1</td>\n",
       "      <td>0</td>\n",
       "      <td>4.0</td>\n",
       "      <td>19.0</td>\n",
       "      <td>0</td>\n",
       "      <td>10</td>\n",
       "    </tr>\n",
       "    <tr>\n",
       "      <th>2</th>\n",
       "      <td>管院區</td>\n",
       "      <td>3</td>\n",
       "      <td>10</td>\n",
       "      <td>3.0</td>\n",
       "      <td>0</td>\n",
       "      <td>11</td>\n",
       "      <td>10.0</td>\n",
       "      <td>3.0</td>\n",
       "      <td>4</td>\n",
       "      <td>26</td>\n",
       "    </tr>\n",
       "    <tr>\n",
       "      <th>3</th>\n",
       "      <td>小小福與共同周邊</td>\n",
       "      <td>4</td>\n",
       "      <td>11</td>\n",
       "      <td>4.8</td>\n",
       "      <td>5</td>\n",
       "      <td>11</td>\n",
       "      <td>8.2</td>\n",
       "      <td>7.6</td>\n",
       "      <td>23</td>\n",
       "      <td>7</td>\n",
       "    </tr>\n",
       "    <tr>\n",
       "      <th>4</th>\n",
       "      <td>椰林大道前段及女五周邊</td>\n",
       "      <td>5</td>\n",
       "      <td>4</td>\n",
       "      <td>10.0</td>\n",
       "      <td>9</td>\n",
       "      <td>8</td>\n",
       "      <td>4.0</td>\n",
       "      <td>10.0</td>\n",
       "      <td>6</td>\n",
       "      <td>0</td>\n",
       "    </tr>\n",
       "  </tbody>\n",
       "</table>\n",
       "</div>"
      ],
      "text/plain": [
       "          所屬區域  區域編號  早九可借車數  早九空柱數量  早九借車人數  早九還車人數  晚五可借車數  晚五空柱數量  晚五借車人數  \\\n",
       "0      捷運公館站周邊     1       7    37.0      86      67     8.0    37.0      24   \n",
       "1         水源校區     2       9    15.0       1       0     4.0    19.0       0   \n",
       "2          管院區     3      10     3.0       0      11    10.0     3.0       4   \n",
       "3     小小福與共同周邊     4      11     4.8       5      11     8.2     7.6      23   \n",
       "4  椰林大道前段及女五周邊     5       4    10.0       9       8     4.0    10.0       6   \n",
       "\n",
       "   晚五還車人數  \n",
       "0     106  \n",
       "1      10  \n",
       "2      26  \n",
       "3       7  \n",
       "4       0  "
      ]
     },
     "execution_count": 28,
     "metadata": {},
     "output_type": "execute_result"
    }
   ],
   "source": [
    "secdata = pd.read_csv(sectionpath)\n",
    "secdata.head()"
   ]
  }
 ],
 "metadata": {
  "kernelspec": {
   "display_name": "Python 3 (ipykernel)",
   "language": "python",
   "name": "python3"
  },
  "language_info": {
   "codemirror_mode": {
    "name": "ipython",
    "version": 3
   },
   "file_extension": ".py",
   "mimetype": "text/x-python",
   "name": "python",
   "nbconvert_exporter": "python",
   "pygments_lexer": "ipython3",
   "version": "3.8.12"
  }
 },
 "nbformat": 4,
 "nbformat_minor": 5
}
